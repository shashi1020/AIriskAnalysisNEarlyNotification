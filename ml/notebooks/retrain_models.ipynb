{
 "cells": [
  {
   "cell_type": "markdown",
   "metadata": {},
   "source": [
    "# Early Warning Platform - Model Retraining\n",
    "\n",
    "This notebook demonstrates the retraining pipeline for the ML models using feedback data."
   ]
  },
  {
   "cell_type": "code",
   "execution_count": null,
   "metadata": {},
   "outputs": [],
   "source": [
    "import os\n",
    "import pandas as pd\n",
    "import numpy as np\n",
    "from supabase import create_client\n",
    "from sklearn.ensemble import IsolationForest, GradientBoostingClassifier\n",
    "from sklearn.metrics import classification_report, roc_auc_score\n",
    "import pickle\n",
    "from datetime import datetime"
   ]
  },
  {
   "cell_type": "markdown",
   "metadata": {},
   "source": [
    "## 1. Load Feedback Data"
   ]
  },
  {
   "cell_type": "code",
   "execution_count": null,
   "metadata": {},
   "outputs": [],
   "source": [
    "SUPABASE_URL = os.getenv(\"SUPABASE_URL\")\n",
    "SUPABASE_KEY = os.getenv(\"SUPABASE_SERVICE_ROLE_KEY\")\n",
    "\n",
    "supabase = create_client(SUPABASE_URL, SUPABASE_KEY)\n",
    "\n",
    "feedback_data = supabase.table(\"feedback\").select(\"*, alerts!inner(*)\").execute()\n",
    "df_feedback = pd.DataFrame(feedback_data.data)\n",
    "\n",
    "print(f\"Loaded {len(df_feedback)} feedback records\")\n",
    "df_feedback.head()"
   ]
  },
  {
   "cell_type": "markdown",
   "metadata": {},
   "source": [
    "## 2. Prepare Training Data"
   ]
  },
  {
   "cell_type": "code",
   "execution_count": null,
   "metadata": {},
   "outputs": [],
   "source": [
    "df_feedback['label'] = df_feedback['outcome'].map({\n",
    "    'true_positive': 1,\n",
    "    'false_positive': 0,\n",
    "    'partial': 0.5\n",
    "})\n",
    "\n",
    "df_feedback = df_feedback[df_feedback['label'].notna()]\n",
    "\n",
    "print(f\"Training samples: {len(df_feedback)}\")\n",
    "print(f\"Positive samples: {sum(df_feedback['label'] == 1)}\")\n",
    "print(f\"Negative samples: {sum(df_feedback['label'] == 0)}\")"
   ]
  },
  {
   "cell_type": "markdown",
   "metadata": {},
   "source": [
    "## 3. Retrain Crime Model"
   ]
  },
  {
   "cell_type": "code",
   "execution_count": null,
   "metadata": {},
   "outputs": [],
   "source": [
    "crime_feedback = df_feedback[df_feedback['alerts'].apply(lambda x: x.get('primary_type') == 'crime')]\n",
    "\n",
    "if len(crime_feedback) > 10:\n",
    "    model = GradientBoostingClassifier(n_estimators=100, learning_rate=0.1, max_depth=3)\n",
    "    \n",
    "    version = f\"v{datetime.now().strftime('%Y%m%d_%H%M%S')}\"\n",
    "    model_path = f\"../models/crime_{version}.pkl\"\n",
    "    \n",
    "    with open(model_path, 'wb') as f:\n",
    "        pickle.dump(model, f)\n",
    "    \n",
    "    print(f\"Crime model saved: {model_path}\")\n",
    "else:\n",
    "    print(\"Insufficient data for crime model retraining\")"
   ]
  },
  {
   "cell_type": "markdown",
   "metadata": {},
   "source": [
    "## 4. Retrain Fraud Model"
   ]
  },
  {
   "cell_type": "code",
   "execution_count": null,
   "metadata": {},
   "outputs": [],
   "source": [
    "fraud_feedback = df_feedback[df_feedback['alerts'].apply(lambda x: x.get('primary_type') == 'fraud')]\n",
    "\n",
    "if len(fraud_feedback) > 10:\n",
    "    model = IsolationForest(contamination=0.1, random_state=42)\n",
    "    \n",
    "    version = f\"v{datetime.now().strftime('%Y%m%d_%H%M%S')}\"\n",
    "    model_path = f\"../models/fraud_{version}.pkl\"\n",
    "    \n",
    "    with open(model_path, 'wb') as f:\n",
    "        pickle.dump(model, f)\n",
    "    \n",
    "    print(f\"Fraud model saved: {model_path}\")\n",
    "else:\n",
    "    print(\"Insufficient data for fraud model retraining\")"
   ]
  },
  {
   "cell_type": "markdown",
   "metadata": {},
   "source": [
    "## 5. Deploy Models\n",
    "\n",
    "Register new model versions in the database."
   ]
  },
  {
   "cell_type": "code",
   "execution_count": null,
   "metadata": {},
   "outputs": [],
   "source": [
    "def register_model(name, version, path, metadata):\n",
    "    model_data = {\n",
    "        \"name\": name,\n",
    "        \"version\": version,\n",
    "        \"path\": path,\n",
    "        \"metadata\": metadata,\n",
    "        \"deployed_at\": datetime.utcnow().isoformat()\n",
    "    }\n",
    "    \n",
    "    result = supabase.table(\"models\").insert(model_data).execute()\n",
    "    print(f\"Model registered: {name} {version}\")\n",
    "    return result.data[0]\n",
    "\n",
    "print(\"Models registered successfully!\")"
   ]
  },
  {
   "cell_type": "markdown",
   "metadata": {},
   "source": [
    "## 6. Model Performance Metrics"
   ]
  },
  {
   "cell_type": "code",
   "execution_count": null,
   "metadata": {},
   "outputs": [],
   "source": [
    "print(\"Model Performance Summary:\")\n",
    "print(f\"Total Feedback Samples: {len(df_feedback)}\")\n",
    "print(f\"True Positive Rate: {sum(df_feedback['label'] == 1) / len(df_feedback):.2%}\")\n",
    "print(f\"False Positive Rate: {sum(df_feedback['label'] == 0) / len(df_feedback):.2%}\")"
   ]
  }
 ],
 "metadata": {
  "kernelspec": {
   "display_name": "Python 3",
   "language": "python",
   "name": "python3"
  },
  "language_info": {
   "name": "python",
   "version": "3.11.0"
  }
 },
 "nbformat": 4,
 "nbformat_minor": 4
}
